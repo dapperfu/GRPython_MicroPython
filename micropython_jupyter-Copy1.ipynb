{
 "cells": [
  {
   "cell_type": "code",
   "execution_count": 10,
   "metadata": {},
   "outputs": [
    {
     "name": "stdout",
     "output_type": "stream",
     "text": [
      "\u001b[34mConnecting to --port=/dev/ttyUSB1 --baud=115200 \u001b[0m\n",
      "\u001b[34mReady.\n",
      "\u001b[0m"
     ]
    }
   ],
   "source": [
    "%serialconnect to --port=/dev/ttyUSB1 --baud=115200"
   ]
  },
  {
   "cell_type": "code",
   "execution_count": 11,
   "metadata": {},
   "outputs": [],
   "source": [
    "import machine\n",
    "from machine import Pin\n",
    "import time"
   ]
  },
  {
   "cell_type": "code",
   "execution_count": 12,
   "metadata": {},
   "outputs": [
    {
     "name": "stdout",
     "output_type": "stream",
     "text": [
      "Trying Pin 2\n",
      "Trying Pin 4\n",
      "Trying Pin 5\n",
      "Trying Pin 12\n",
      "Trying Pin 13\n",
      "Trying Pin 14\n",
      "Trying Pin 15\n",
      "Trying Pin 16\n"
     ]
    }
   ],
   "source": [
    "# GPIO0: Reset/Flash\n",
    "# GPIO1: UART TX\n",
    "# GPIO3: UART RX\n",
    "# GPIO6, 7, 8, 11: Doesn't Exist.\n",
    "# GPIO9, 10, \n",
    "for pin in [2, 4, 5, 12, 13, 14, 15, 16]:\n",
    "    print(\"Trying Pin {}\".format(pin))\n",
    "    time.sleep(0.5)\n",
    "    machine.Pin(pin, machine.Pin.OUT)\n",
    "    machine.Pin(pin, machine.Pin.OUT).off()"
   ]
  },
  {
   "cell_type": "code",
   "execution_count": null,
   "metadata": {},
   "outputs": [],
   "source": []
  },
  {
   "cell_type": "code",
   "execution_count": 14,
   "metadata": {},
   "outputs": [],
   "source": [
    "# Blue LED1, OnBoard\n",
    "machine.Pin(16, machine.Pin.OUT).on()"
   ]
  },
  {
   "cell_type": "code",
   "execution_count": 16,
   "metadata": {},
   "outputs": [],
   "source": [
    "# Blue LED2, OnBoard\n",
    "machine.Pin(2, machine.Pin.OUT).on()"
   ]
  },
  {
   "cell_type": "code",
   "execution_count": 17,
   "metadata": {},
   "outputs": [],
   "source": []
  },
  {
   "cell_type": "code",
   "execution_count": 18,
   "metadata": {},
   "outputs": [],
   "source": [
    "# Red LED (D6), daughter board.\n",
    "machine.Pin(5, machine.Pin.OUT).on()"
   ]
  },
  {
   "cell_type": "code",
   "execution_count": 19,
   "metadata": {},
   "outputs": [],
   "source": [
    "# Orange LED (D5), daughter board.\n",
    "machine.Pin(4, machine.Pin.OUT).on()"
   ]
  },
  {
   "cell_type": "code",
   "execution_count": 20,
   "metadata": {},
   "outputs": [],
   "source": [
    "# Yellow LED (D4), daughter board.\n",
    "machine.Pin(14, machine.Pin.OUT).on()"
   ]
  },
  {
   "cell_type": "code",
   "execution_count": 24,
   "metadata": {},
   "outputs": [],
   "source": [
    "# Green LED (D3), daughter board.\n",
    "machine.Pin(12, machine.Pin.OUT).on()"
   ]
  },
  {
   "cell_type": "code",
   "execution_count": 25,
   "metadata": {},
   "outputs": [],
   "source": [
    "# Blue LED (D2), daughter board.\n",
    "machine.Pin(13, machine.Pin.OUT).on()"
   ]
  },
  {
   "cell_type": "code",
   "execution_count": 26,
   "metadata": {},
   "outputs": [],
   "source": [
    "# White LED (D1), daughter board.\n",
    "machine.Pin(15, machine.Pin.OUT).on()"
   ]
  },
  {
   "cell_type": "code",
   "execution_count": null,
   "metadata": {},
   "outputs": [],
   "source": []
  }
 ],
 "metadata": {
  "kernelspec": {
   "display_name": "MicroPython - USB",
   "language": "micropython",
   "name": "micropython"
  },
  "language_info": {
   "codemirror_mode": "python",
   "file_extension": ".py",
   "mimetype": "text/python",
   "name": "micropython"
  }
 },
 "nbformat": 4,
 "nbformat_minor": 2
}
