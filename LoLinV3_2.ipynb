{
 "cells": [
  {
   "cell_type": "code",
   "execution_count": 30,
   "metadata": {},
   "outputs": [
    {
     "name": "stdout",
     "output_type": "stream",
     "text": [
      "\u001b[34mConnecting to --port=/dev/ttyUSB0 --baud=115200 \u001b[0m\n",
      "\u001b[34mReady.\n",
      "\u001b[0m"
     ]
    }
   ],
   "source": [
    "%serialconnect to --port=/dev/ttyUSB0 --baud=115200"
   ]
  },
  {
   "cell_type": "markdown",
   "metadata": {},
   "source": [
    "Keywords: micropython, hcsr04, sonar sensor, NodeMCU"
   ]
  },
  {
   "cell_type": "code",
   "execution_count": 31,
   "metadata": {},
   "outputs": [],
   "source": [
    "import dht"
   ]
  },
  {
   "cell_type": "code",
   "execution_count": 32,
   "metadata": {},
   "outputs": [],
   "source": [
    "import machine"
   ]
  },
  {
   "cell_type": "code",
   "execution_count": 33,
   "metadata": {},
   "outputs": [],
   "source": [
    "d = dht.DHT11(machine.Pin(4))"
   ]
  },
  {
   "cell_type": "code",
   "execution_count": 51,
   "metadata": {},
   "outputs": [],
   "source": [
    "d.measure()"
   ]
  },
  {
   "cell_type": "code",
   "execution_count": 52,
   "metadata": {},
   "outputs": [],
   "source": [
    "d.temperature()"
   ]
  },
  {
   "cell_type": "code",
   "execution_count": 53,
   "metadata": {},
   "outputs": [
    {
     "name": "stdout",
     "output_type": "stream",
     "text": [
      "25\r\n"
     ]
    }
   ],
   "source": [
    "print(d.temperature())"
   ]
  },
  {
   "cell_type": "code",
   "execution_count": 56,
   "metadata": {},
   "outputs": [],
   "source": [
    "# 77F = 25C"
   ]
  },
  {
   "cell_type": "code",
   "execution_count": 57,
   "metadata": {},
   "outputs": [],
   "source": [
    "d.humidity()"
   ]
  },
  {
   "cell_type": "code",
   "execution_count": 58,
   "metadata": {},
   "outputs": [
    {
     "name": "stdout",
     "output_type": "stream",
     "text": [
      "39\r\n"
     ]
    }
   ],
   "source": [
    "print(d.humidity())"
   ]
  },
  {
   "cell_type": "code",
   "execution_count": 60,
   "metadata": {},
   "outputs": [
    {
     "name": "stdout",
     "output_type": "stream",
     "text": [
      "['__class__', '__init__', '__module__', '__qualname__', '__dict__', 'buf', 'pin', 'measure', 'humidity', 'temperature']\r\n"
     ]
    }
   ],
   "source": [
    "print(dir(d))"
   ]
  },
  {
   "cell_type": "code",
   "execution_count": 34,
   "metadata": {},
   "outputs": [
    {
     "name": "stdout",
     "output_type": "stream",
     "text": [
      "15.4483\n",
      "41.069\n",
      "50.3965\n",
      ".18.7586\n",
      "16.8103\n",
      "14.3103\n",
      ".21.3793\n",
      "23.7931\n",
      ".24.0172\n",
      "37.7414\n",
      "47.6207\n",
      ".67.1896\n",
      "\u001b[34m\n",
      "\n",
      "*** Sending Ctrl-C\n",
      "\n",
      "\u001b[0m"
     ]
    },
    {
     "name": "stderr",
     "output_type": "stream",
     "text": [
      "Traceback (most recent call last):\n",
      "  File \"<stdin>\", line 24, in <module>\n",
      "KeyboardInterrupt: \n"
     ]
    }
   ],
   "source": [
    "import machine\n",
    "import utime\n",
    "\n",
    "trigger_pin=16\n",
    "echo_pin=5\n",
    "\n",
    "# https://stackoverflow.com/questions/42416224/micropython-hc-sr04-esp8266\n",
    "trig=machine.Pin(trigger_pin, machine.Pin.OUT)\n",
    "while True:\n",
    "    trig.off() # stop reading\n",
    "    utime.sleep_us(2)\n",
    "    trig.on()\n",
    "    utime.sleep_us(10)\n",
    "    trig.off()\n",
    "    echo=machine.Pin(echo_pin, machine.Pin.IN)\n",
    "    while echo.value() == 0:\n",
    "        pass\n",
    "    t1 = utime.ticks_us()\n",
    "    while echo.value() == 1:\n",
    "        pass\n",
    "    t2 = utime.ticks_us()\n",
    "    cm = (t2 - t1) / 58.0\n",
    "    print(cm)\n",
    "    utime.sleep(2)"
   ]
  },
  {
   "cell_type": "code",
   "execution_count": 43,
   "metadata": {},
   "outputs": [],
   "source": [
    "from machine import Pin\n",
    "import time\n",
    "# https://github.com/rsc1975/micropython-hcsr04/blob/master/hcsr04.py\n",
    "class HCSR04:\n",
    "    \"\"\"\n",
    "    Driver to use the untrasonic sensor HC-SR04.\n",
    "    The sensor range is between 2cm and 4m.\n",
    "    The timeouts received listening to echo pin are converted to OSError('Out of range')\n",
    "    \"\"\"\n",
    "    # echo_timeout_us is based in chip range limit (400cm)\n",
    "    def __init__(self, trigger_pin, echo_pin, echo_timeout_us=500*2*30):\n",
    "        \"\"\"\n",
    "        trigger_pin: Output pin to send pulses\n",
    "        echo_pin: Readonly pin to measure the distance. The pin should be protected with 1k resistor\n",
    "        echo_timeout_us: Timeout in microseconds to listen to echo pin. \n",
    "        By default is based in sensor limit range (4m)\n",
    "        \"\"\"\n",
    "        self.echo_timeout_us = echo_timeout_us\n",
    "        # Init trigger pin (out)\n",
    "        self.trigger = Pin(trigger_pin, mode=Pin.OUT, pull=None)\n",
    "        self.trigger.value(0)\n",
    "\n",
    "        # Init echo pin (in)\n",
    "        self.echo = Pin(echo_pin, mode=Pin.IN, pull=None)\n",
    "\n",
    "    def _send_pulse_and_wait(self):\n",
    "        \"\"\"\n",
    "        Send the pulse to trigger and listen on echo pin.\n",
    "        We use the method `machine.time_pulse_us()` to get the microseconds until the echo is received.\n",
    "        \"\"\"\n",
    "        self.trigger.value(0) # Stabilize the sensor\n",
    "        time.sleep_us(5)\n",
    "        self.trigger.value(1)\n",
    "        # Send a 10us pulse.\n",
    "        time.sleep_us(10)\n",
    "        self.trigger.value(0)\n",
    "        try:\n",
    "            pulse_time = machine.time_pulse_us(self.echo, 1, self.echo_timeout_us)\n",
    "            return pulse_time\n",
    "        except OSError as ex:\n",
    "            if ex.args[0] == 110: # 110 = ETIMEDOUT\n",
    "                raise OSError('Out of range')\n",
    "            raise ex\n",
    "\n",
    "    def distance_mm(self):\n",
    "        \"\"\"\n",
    "        Get the distance in milimeters without floating point operations.\n",
    "        \"\"\"\n",
    "        pulse_time = self._send_pulse_and_wait()\n",
    "\n",
    "        # To calculate the distance we get the pulse_time and divide it by 2 \n",
    "        # (the pulse walk the distance twice) and by 29.1 becasue\n",
    "        # the sound speed on air (343.2 m/s), that It's equivalent to\n",
    "        # 0.34320 mm/us that is 1mm each 2.91us\n",
    "        # pulse_time // 2 // 2.91 -> pulse_time // 5.82 -> pulse_time * 100 // 582 \n",
    "        mm = pulse_time * 100 // 582\n",
    "        return mm\n",
    "\n",
    "    def distance_cm(self):\n",
    "        \"\"\"\n",
    "        Get the distance in centimeters with floating point operations.\n",
    "        It returns a float\n",
    "        \"\"\"\n",
    "        pulse_time = self._send_pulse_and_wait()\n",
    "\n",
    "        # To calculate the distance we get the pulse_time and divide it by 2 \n",
    "        # (the pulse walk the distance twice) and by 29.1 becasue\n",
    "        # the sound speed on air (343.2 m/s), that It's equivalent to\n",
    "        # 0.034320 cm/us that is 1cm each 29.1us\n",
    "        cms = (pulse_time / 2) / 29.1\n",
    "        return cms"
   ]
  },
  {
   "cell_type": "code",
   "execution_count": 44,
   "metadata": {},
   "outputs": [],
   "source": [
    "echo = HCSR04(trigger_pin, echo_pin)"
   ]
  },
  {
   "cell_type": "code",
   "execution_count": 48,
   "metadata": {},
   "outputs": [
    {
     "name": "stdout",
     "output_type": "stream",
     "text": [
      "53.8316\r\n"
     ]
    }
   ],
   "source": [
    "print(echo.distance_cm())"
   ]
  },
  {
   "cell_type": "code",
   "execution_count": 62,
   "metadata": {},
   "outputs": [
    {
     "name": "stdout",
     "output_type": "stream",
     "text": [
      "29.0345\n",
      "54.8969\n",
      "53.9138\n",
      "50.0515\n",
      "28.8965\n",
      "28.7113\n",
      "27.5172\n",
      "24.433\n",
      "19.431\n",
      "17.3196\n",
      ".16.7241\n",
      "16.2371\n",
      "15.431\n",
      "19.8282\n",
      "17.3103\n",
      "16.2371\n",
      "16.7931\n",
      "16.2027\n",
      "16.7241\n",
      "25.5326\n",
      ".52.1897\n",
      "22.3711\n",
      "54.3448\n",
      "56.9588\n",
      "55.3276\n",
      "55.0\n",
      "57.2931\n",
      "56.9416\n",
      "54.2759\n",
      "57.165\n",
      ".54.1379\n",
      "56.2371\n",
      "55.3965\n",
      "57.1134\n",
      "56.7759\n",
      "56.8041\n",
      "57.8276\n",
      "53.299\n",
      "55.3276\n",
      "55.6186\n",
      ".56.4655\n",
      "51.6323\n",
      "55.7759\n",
      "\n",
      "**[ys] <class 'serial.serialutil.SerialException'>\n",
      "**[ys] read failed: device reports readiness to read but returned no data (device disconnected or multiple access on port?)\n",
      "\n",
      "\n",
      "**[ys] <class 'serial.serialutil.SerialException'>\n",
      "**[ys] read failed: device reports readiness to read but returned no data (device disconnected or multiple access on port?)\n",
      "\n"
     ]
    }
   ],
   "source": [
    "trig=machine.Pin(trigger_pin, machine.Pin.OUT)\n",
    "echo=machine.Pin(echo_pin, machine.Pin.IN)\n",
    "method2 = HCSR04(trigger_pin, echo_pin)\n",
    "while True:\n",
    "    trig.off() # stop reading\n",
    "    utime.sleep_us(2)\n",
    "    trig.on()\n",
    "    utime.sleep_us(10)\n",
    "    trig.off()\n",
    "    while echo.value() == 0:\n",
    "        pass\n",
    "    t1 = utime.ticks_us()\n",
    "    while echo.value() == 1:\n",
    "        pass\n",
    "    t2 = utime.ticks_us()\n",
    "    cm = (t2 - t1) / 58.0\n",
    "    print(cm)\n",
    "    utime.sleep(0.5)\n",
    "    print(method2.distance_cm())\n",
    "    utime.sleep(0.5)"
   ]
  },
  {
   "cell_type": "code",
   "execution_count": null,
   "metadata": {},
   "outputs": [],
   "source": []
  }
 ],
 "metadata": {
  "kernelspec": {
   "display_name": "MicroPython - USB",
   "language": "micropython",
   "name": "micropython"
  },
  "language_info": {
   "codemirror_mode": "python",
   "file_extension": ".py",
   "mimetype": "text/python",
   "name": "micropython"
  }
 },
 "nbformat": 4,
 "nbformat_minor": 2
}
