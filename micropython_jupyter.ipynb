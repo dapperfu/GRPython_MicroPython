{
 "cells": [
  {
   "cell_type": "code",
   "execution_count": null,
   "metadata": {},
   "outputs": [],
   "source": [
    "%serialconnect to --port=/dev/ttyUSB1 --baud=115200"
   ]
  },
  {
   "cell_type": "code",
   "execution_count": null,
   "metadata": {},
   "outputs": [],
   "source": [
    "import machine\n",
    "from machine import Pin"
   ]
  },
  {
   "cell_type": "code",
   "execution_count": null,
   "metadata": {},
   "outputs": [],
   "source": [
    "for pin in range(0,17):\n",
    "    print(\"Trying Pin {}\".format(pin))\n",
    "    machine.Pin(pin, machine.Pin.OUT)\n",
    "    machine.Pin(pin, machine.Pin.OUT).off()"
   ]
  },
  {
   "cell_type": "code",
   "execution_count": null,
   "metadata": {},
   "outputs": [],
   "source": [
    "import time"
   ]
  },
  {
   "cell_type": "code",
   "execution_count": null,
   "metadata": {},
   "outputs": [],
   "source": [
    "import sys"
   ]
  },
  {
   "cell_type": "code",
   "execution_count": null,
   "metadata": {},
   "outputs": [],
   "source": [
    "# GPIO0: Reset/Flash\n",
    "# GPIO1: UART TX\n",
    "# GPIO3: UART RX\n",
    "# GPIO6, 7, 8, 11: Doesn't Exist.\n",
    "# GPIO9: Reset\n",
    "for pin in [2, 4, 5, 9, 10, 11, 12, 13, 14, 15, 16]:\n",
    "    print(\"Trying Pin {}\".format(pin))\n",
    "    time.sleep(0.5)\n",
    "    machine.Pin(pin, machine.Pin.OUT)\n",
    "    machine.Pin(pin, machine.Pin.OUT).off()"
   ]
  },
  {
   "cell_type": "code",
   "execution_count": null,
   "metadata": {},
   "outputs": [],
   "source": []
  }
 ],
 "metadata": {
  "kernelspec": {
   "display_name": "MicroPython - USB",
   "language": "micropython",
   "name": "micropython"
  },
  "language_info": {
   "codemirror_mode": "python",
   "file_extension": ".py",
   "mimetype": "text/python",
   "name": "micropython"
  }
 },
 "nbformat": 4,
 "nbformat_minor": 2
}
