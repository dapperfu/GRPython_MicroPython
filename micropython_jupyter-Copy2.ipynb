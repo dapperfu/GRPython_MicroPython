{
 "cells": [
  {
   "cell_type": "code",
   "execution_count": 1,
   "metadata": {},
   "outputs": [
    {
     "name": "stdout",
     "output_type": "stream",
     "text": [
      "\u001b[34mConnecting to --port=/dev/ttyUSB1 --baud=115200 \u001b[0m\n",
      "\u001b[34mReady.\n",
      "\u001b[0m"
     ]
    }
   ],
   "source": [
    "%serialconnect to --port=/dev/ttyUSB1 --baud=115200"
   ]
  },
  {
   "cell_type": "code",
   "execution_count": 11,
   "metadata": {},
   "outputs": [],
   "source": [
    "import machine\n",
    "from machine import Pin\n",
    "import time"
   ]
  },
  {
   "cell_type": "code",
   "execution_count": 2,
   "metadata": {},
   "outputs": [],
   "source": [
    "blue_leds = [machine.Pin(pin, machine.Pin.OUT) for pin in [2, 16]]"
   ]
  },
  {
   "cell_type": "code",
   "execution_count": 4,
   "metadata": {},
   "outputs": [],
   "source": [
    "for blue_led in blue_leds:\n",
    "    blue_led.off()"
   ]
  },
  {
   "cell_type": "code",
   "execution_count": 7,
   "metadata": {},
   "outputs": [],
   "source": [
    "# Red LED (D6), daughter board.\n",
    "red_pin = 5\n",
    "red_led = machine.Pin(red_pin, machine.Pin.OUT)\n",
    "\n",
    "# Orange LED (D5), daughter board.\n",
    "orange_pin = 4\n",
    "orange_led = machine.Pin(orange_pin, Pin.OUT)\n",
    "\n",
    "# Yellow LED (D4), daughter board.\n",
    "yellow_pin = 14\n",
    "yellow_led = machine.Pin(yellow_pin, machine.Pin.OUT)\n",
    "\n",
    "# Green LED (D3), daughter board.\n",
    "green_pin = 12\n",
    "green_led = machine.Pin(green_pin, machine.Pin.OUT)\n",
    "\n",
    "# Blue LED (D2), daughter board.\n",
    "blue_pin = 13\n",
    "blue_led = machine.Pin(13, machine.Pin.OUT)\n",
    "\n",
    "# White LED (D1), daughter board.\n",
    "white_pin = 15\n",
    "white_led = machine.Pin(white_pin, machine.Pin.OUT)"
   ]
  },
  {
   "cell_type": "code",
   "execution_count": 8,
   "metadata": {},
   "outputs": [],
   "source": [
    "leds = [red_led, orange_led, yellow_led, green_led, blue_led, white_led]"
   ]
  },
  {
   "cell_type": "code",
   "execution_count": 14,
   "metadata": {},
   "outputs": [],
   "source": [
    "[led.off() for led in leds]"
   ]
  },
  {
   "cell_type": "code",
   "execution_count": 15,
   "metadata": {},
   "outputs": [],
   "source": [
    "[led.on() for led in leds]"
   ]
  }
 ],
 "metadata": {
  "kernelspec": {
   "display_name": "MicroPython - USB",
   "language": "micropython",
   "name": "micropython"
  },
  "language_info": {
   "codemirror_mode": "python",
   "file_extension": ".py",
   "mimetype": "text/python",
   "name": "micropython"
  }
 },
 "nbformat": 4,
 "nbformat_minor": 2
}
